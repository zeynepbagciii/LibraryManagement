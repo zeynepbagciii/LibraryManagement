{
  "cells": [
    {
      "cell_type": "markdown",
      "metadata": {
        "id": "view-in-github",
        "colab_type": "text"
      },
      "source": [
        "<a href=\"https://colab.research.google.com/github/zeynepbagciii/LibraryManagement/blob/main/LibraryManagement.ipynb\" target=\"_parent\"><img src=\"https://colab.research.google.com/assets/colab-badge.svg\" alt=\"Open In Colab\"/></a>"
      ]
    },
    {
      "cell_type": "code",
      "execution_count": null,
      "metadata": {
        "id": "txmE93zFcVw0"
      },
      "outputs": [],
      "source": [
        "class Kütüphane:\n",
        "    def __init__(self):\n",
        "        self.dosya_yolu = \"kitaplar.txt\"\n",
        "        self.dosya = open(self.dosya_yolu, \"a+\", encoding=\"utf-8\")\n",
        "\n",
        "    def __del__(self):\n",
        "        self.dosya.close()\n",
        "\n",
        "    def kitapları_listele(self):\n",
        "        self.dosya.seek(0)\n",
        "        kitaplar = self.dosya.read().splitlines()\n",
        "        for kitap in kitaplar:\n",
        "            ad, yazar, yayın_tarihi, sayfa_sayısı, tür = kitap.split(\",\")\n",
        "            print(f\"Ad: {ad}, Yazar: {yazar}, Yayın Tarihi: {yayın_tarihi}, Sayfa Sayısı: {sayfa_sayısı}, Tür:{tür}\")\n",
        "\n",
        "    def kitap_ekle(self):\n",
        "        ad = input(\"Kitap adını giriniz: \")\n",
        "        yazar = input(\"Kitap yazarını giriniz: \")\n",
        "        yayın_tarihi = input(\"Yayın tarihini giriniz: \")\n",
        "        sayfa_sayısı = input(\"Sayfa sayısını giriniz: \")\n",
        "        tür = input(\"Kitap türünü giriniz: \")\n",
        "\n",
        "        kitap_bilgisi = f\"{ad},{yazar},{yayın_tarihi},{sayfa_sayısı},{tür}\\n\"\n",
        "        self.dosya.write(kitap_bilgisi)\n",
        "        print(\"Kitap başarıyla eklendi.\")\n",
        "\n",
        "    def tür_seç(self):\n",
        "        tür = input(\"Tür tercihini giriniz: \")\n",
        "\n",
        "        self.dosya.seek(0)\n",
        "        kitaplar = self.dosya.read().splitlines()\n",
        "        for kitap in kitaplar:\n",
        "            ad, yazar, yayın_tarihi, sayfa_sayısı, kitap_tür = kitap.split(\",\")\n",
        "            if kitap_tür.strip() == tür:\n",
        "                print(f\"Ad: {ad}, Yazar: {yazar}, Yayın Tarihi: {yayın_tarihi}, Sayfa Sayısı: {sayfa_sayısı}, Tür:{kitap_tür}\")\n",
        "\n",
        "    def kitap_sil(self):\n",
        "        silinecek_kitap_adı = input(\"Silmek istediğiniz kitabın adını giriniz: \")\n",
        "\n",
        "        self.dosya.seek(0)\n",
        "        kitaplar = self.dosya.readlines()\n",
        "\n",
        "        yeni_kitaplar = [kitap for kitap in kitaplar if silinecek_kitap_adı not in kitap]\n",
        "\n",
        "        self.dosya.seek(0)\n",
        "        self.dosya.truncate()\n",
        "        self.dosya.writelines(yeni_kitaplar)\n",
        "        self.dosya.seek(0)\n",
        "\n",
        "        print(\"Kitap başarıyla silindi.\")\n",
        "\n",
        "\n",
        "kutuphane = Kütüphane()\n",
        "\n",
        "while True:\n",
        "    print(\"\\n*** MENÜ ***\")\n",
        "    print(\"1) Kitapları Listele\")\n",
        "    print(\"2) Kitap Ekle\")\n",
        "    print(\"3) Kitap Sil\")\n",
        "    print(\"4) Tür Seç\")\n",
        "    print(\"5) Çıkış\")\n",
        "\n",
        "    secim = input(\"Lütfen seçiminizi yapın (1-5): \")\n",
        "\n",
        "    if secim == \"1\":\n",
        "        kutuphane.kitapları_listele()\n",
        "    elif secim == \"2\":\n",
        "        kutuphane.kitap_ekle()\n",
        "    elif secim == \"3\":\n",
        "        kutuphane.kitap_sil()\n",
        "    elif secim == \"4\":\n",
        "        kutuphane.tür_seç()\n",
        "    elif secim == \"5\":\n",
        "        del kutuphane\n",
        "        break\n",
        "    else:\n",
        "        print(\"Geçersiz seçim. Lütfen 1 ile 5 arasında bir sayı girin.\")"
      ]
    }
  ],
  "metadata": {
    "colab": {
      "provenance": [],
      "authorship_tag": "ABX9TyMyoBtucAHsm3VbzE0xkeoh",
      "include_colab_link": true
    },
    "kernelspec": {
      "display_name": "Python 3",
      "name": "python3"
    },
    "language_info": {
      "name": "python"
    }
  },
  "nbformat": 4,
  "nbformat_minor": 0
}